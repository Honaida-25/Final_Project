{
 "cells": [
  {
   "cell_type": "markdown",
   "id": "f8a3bf31",
   "metadata": {},
   "source": [
    "### This file contains the functions need it for the main file \"Walmart Sales Prediction - Project\""
   ]
  },
  {
   "cell_type": "code",
   "execution_count": null,
   "id": "eea6e5f6",
   "metadata": {},
   "outputs": [],
   "source": [
    "def groupby_sum(df, group_vars, agg_var='Total', sort_var='Total'):\n",
    "    '''\n",
    "    Return: a Pandas dataframe object where rows have been gruped by a given group of columns (categorical variables). \n",
    "            The resulting dataframe will be sorted descending from highest to lowest amount of deaths and the index column will be reset.\n",
    "    Input parameters:\n",
    "        - df -> Pandas dataframe object: a dataframe with categorical variables and an aggregation variable.\n",
    "        - group_vars -> list object: a list of values with the name of a group of categorical variables (e.g.: ['Sexo', 'Edad']).\n",
    "        - agg_var -> string: a string with the name of the variable to be aggregated. In this case the variable 'Total' (number of deaths) is set as default.\n",
    "        - sort_var -> string: a string with the name of the variable to sort the dataframe by. In this case the variable 'Total' (number of deaths) is set as default.\n",
    "    '''\n",
    "    df = df.groupby(group_vars, as_index=False).agg({agg_var:'sum'})\n",
    "    df = df.sort_values(by=sort_var, ascending=False)\n",
    "    return df.reset_index(drop=True)"
   ]
  },
  {
   "cell_type": "code",
   "execution_count": null,
   "id": "e041dc17",
   "metadata": {},
   "outputs": [],
   "source": [
    "def cat_var(df, cols):\n",
    "    '''\n",
    "    Return: a Pandas dataframe object with the following columns:\n",
    "        - \"categorical_variable\" => every categorical variable include as an input parameter (string).\n",
    "        - \"number_of_possible_values\" => the amount of unique values that can take a given categorical variable (integer).\n",
    "        - \"values\" => a list with the posible unique values for every categorical variable (list).\n",
    "    Input parameters:\n",
    "        - df -> Pandas dataframe object: a dataframe with categorical variables.\n",
    "        - cols -> list object: a list with the name (string) of every categorical variable to analyse.\n",
    "    '''\n",
    "    cat_list = []\n",
    "    for col in cols:\n",
    "        cat = df[col].unique()\n",
    "        cat_num = len(cat)\n",
    "        cat_dict = {\"categorical_variable\":col,\n",
    "                    \"number_of_possible_values\":cat_num,\n",
    "                    \"values\":cat}\n",
    "        cat_list.append(cat_dict)\n",
    "    df = pd.DataFrame(cat_list).sort_values(by=\"number_of_possible_values\", ascending=False)\n",
    "    return df.reset_index(drop=True)"
   ]
  }
 ],
 "metadata": {
  "kernelspec": {
   "display_name": "Python 3",
   "language": "python",
   "name": "python3"
  },
  "language_info": {
   "codemirror_mode": {
    "name": "ipython",
    "version": 3
   },
   "file_extension": ".py",
   "mimetype": "text/x-python",
   "name": "python",
   "nbconvert_exporter": "python",
   "pygments_lexer": "ipython3",
   "version": "3.8.5"
  }
 },
 "nbformat": 4,
 "nbformat_minor": 5
}
